{
 "cells": [
  {
   "cell_type": "code",
   "execution_count": 11,
   "metadata": {},
   "outputs": [],
   "source": [
    "import xarray as xr\n",
    "import numpy as np"
   ]
  },
  {
   "cell_type": "code",
   "execution_count": 2,
   "metadata": {
    "collapsed": true,
    "jupyter": {
     "outputs_hidden": true,
     "source_hidden": true
    }
   },
   "outputs": [
    {
     "name": "stdout",
     "output_type": "stream",
     "text": [
      "--2020-07-10 16:02:09--  http://dap.ceda.ac.uk/thredds/fileServer/badc/cmip6/data/CMIP6/CMIP/NOAA-GFDL/GFDL-AM4/amip/r1i1p1f1/Amon/tas/gr1/files/d20180807/tas_Amon_GFDL-AM4_amip_r1i1p1f1_gr1_198001-201412.nc\n",
      "Resolving dap.ceda.ac.uk (dap.ceda.ac.uk)... 130.246.128.117\n",
      "Connecting to dap.ceda.ac.uk (dap.ceda.ac.uk)|130.246.128.117|:80... connected.\n",
      "HTTP request sent, awaiting response... 200 OK\n",
      "Length: 87117584 (83M) [application/octet-stream]\n",
      "Saving to: ‘tas_Amon_GFDL-AM4_amip_r1i1p1f1_gr1_198001-201412.nc’\n",
      "\n",
      "tas_Amon_GFDL-AM4_a 100%[===================>]  83.08M  8.70MB/s    in 11s     \n",
      "\n",
      "2020-07-10 16:02:21 (7.57 MB/s) - ‘tas_Amon_GFDL-AM4_amip_r1i1p1f1_gr1_198001-201412.nc’ saved [87117584/87117584]\n",
      "\n"
     ]
    }
   ],
   "source": [
    "# this example is about 85MB\n",
    "!wget http://dap.ceda.ac.uk/thredds/fileServer/badc/cmip6/data/CMIP6/CMIP/NOAA-GFDL/GFDL-AM4/amip/r1i1p1f1/Amon/tas/gr1/files/d20180807/tas_Amon_GFDL-AM4_amip_r1i1p1f1_gr1_198001-201412.nc"
   ]
  },
  {
   "cell_type": "code",
   "execution_count": 3,
   "metadata": {
    "jupyter": {
     "source_hidden": true
    }
   },
   "outputs": [],
   "source": [
    "filename = 'tas_Amon_GFDL-AM4_amip_r1i1p1f1_gr1_198001-201412.nc'"
   ]
  },
  {
   "cell_type": "markdown",
   "metadata": {},
   "source": [
    "# Keeping attributes and CF compliance."
   ]
  },
  {
   "cell_type": "markdown",
   "metadata": {},
   "source": [
    "## Viewing attributes\n",
    "The example netcdf dataset is CF compliant. The [CF conventions](https://cfconventions.org/) are a set of metadata conventions for making files self-describing and easy to load."
   ]
  },
  {
   "cell_type": "code",
   "execution_count": 16,
   "metadata": {},
   "outputs": [
    {
     "data": {
      "text/html": [
       "<div><svg style=\"position: absolute; width: 0; height: 0; overflow: hidden\">\n",
       "<defs>\n",
       "<symbol id=\"icon-database\" viewBox=\"0 0 32 32\">\n",
       "<title>Show/Hide data repr</title>\n",
       "<path d=\"M16 0c-8.837 0-16 2.239-16 5v4c0 2.761 7.163 5 16 5s16-2.239 16-5v-4c0-2.761-7.163-5-16-5z\"></path>\n",
       "<path d=\"M16 17c-8.837 0-16-2.239-16-5v6c0 2.761 7.163 5 16 5s16-2.239 16-5v-6c0 2.761-7.163 5-16 5z\"></path>\n",
       "<path d=\"M16 26c-8.837 0-16-2.239-16-5v6c0 2.761 7.163 5 16 5s16-2.239 16-5v-6c0 2.761-7.163 5-16 5z\"></path>\n",
       "</symbol>\n",
       "<symbol id=\"icon-file-text2\" viewBox=\"0 0 32 32\">\n",
       "<title>Show/Hide attributes</title>\n",
       "<path d=\"M28.681 7.159c-0.694-0.947-1.662-2.053-2.724-3.116s-2.169-2.030-3.116-2.724c-1.612-1.182-2.393-1.319-2.841-1.319h-15.5c-1.378 0-2.5 1.121-2.5 2.5v27c0 1.378 1.122 2.5 2.5 2.5h23c1.378 0 2.5-1.122 2.5-2.5v-19.5c0-0.448-0.137-1.23-1.319-2.841zM24.543 5.457c0.959 0.959 1.712 1.825 2.268 2.543h-4.811v-4.811c0.718 0.556 1.584 1.309 2.543 2.268zM28 29.5c0 0.271-0.229 0.5-0.5 0.5h-23c-0.271 0-0.5-0.229-0.5-0.5v-27c0-0.271 0.229-0.5 0.5-0.5 0 0 15.499-0 15.5 0v7c0 0.552 0.448 1 1 1h7v19.5z\"></path>\n",
       "<path d=\"M23 26h-14c-0.552 0-1-0.448-1-1s0.448-1 1-1h14c0.552 0 1 0.448 1 1s-0.448 1-1 1z\"></path>\n",
       "<path d=\"M23 22h-14c-0.552 0-1-0.448-1-1s0.448-1 1-1h14c0.552 0 1 0.448 1 1s-0.448 1-1 1z\"></path>\n",
       "<path d=\"M23 18h-14c-0.552 0-1-0.448-1-1s0.448-1 1-1h14c0.552 0 1 0.448 1 1s-0.448 1-1 1z\"></path>\n",
       "</symbol>\n",
       "</defs>\n",
       "</svg>\n",
       "<style>/* CSS stylesheet for displaying xarray objects in jupyterlab.\n",
       " *\n",
       " */\n",
       "\n",
       ":root {\n",
       "  --xr-font-color0: var(--jp-content-font-color0, rgba(0, 0, 0, 1));\n",
       "  --xr-font-color2: var(--jp-content-font-color2, rgba(0, 0, 0, 0.54));\n",
       "  --xr-font-color3: var(--jp-content-font-color3, rgba(0, 0, 0, 0.38));\n",
       "  --xr-border-color: var(--jp-border-color2, #e0e0e0);\n",
       "  --xr-disabled-color: var(--jp-layout-color3, #bdbdbd);\n",
       "  --xr-background-color: var(--jp-layout-color0, white);\n",
       "  --xr-background-color-row-even: var(--jp-layout-color1, white);\n",
       "  --xr-background-color-row-odd: var(--jp-layout-color2, #eeeeee);\n",
       "}\n",
       "\n",
       ".xr-wrap {\n",
       "  min-width: 300px;\n",
       "  max-width: 700px;\n",
       "}\n",
       "\n",
       ".xr-header {\n",
       "  padding-top: 6px;\n",
       "  padding-bottom: 6px;\n",
       "  margin-bottom: 4px;\n",
       "  border-bottom: solid 1px var(--xr-border-color);\n",
       "}\n",
       "\n",
       ".xr-header > div,\n",
       ".xr-header > ul {\n",
       "  display: inline;\n",
       "  margin-top: 0;\n",
       "  margin-bottom: 0;\n",
       "}\n",
       "\n",
       ".xr-obj-type,\n",
       ".xr-array-name {\n",
       "  margin-left: 2px;\n",
       "  margin-right: 10px;\n",
       "}\n",
       "\n",
       ".xr-obj-type {\n",
       "  color: var(--xr-font-color2);\n",
       "}\n",
       "\n",
       ".xr-sections {\n",
       "  padding-left: 0 !important;\n",
       "  display: grid;\n",
       "  grid-template-columns: 150px auto auto 1fr 20px 20px;\n",
       "}\n",
       "\n",
       ".xr-section-item {\n",
       "  display: contents;\n",
       "}\n",
       "\n",
       ".xr-section-item input {\n",
       "  display: none;\n",
       "}\n",
       "\n",
       ".xr-section-item input + label {\n",
       "  color: var(--xr-disabled-color);\n",
       "}\n",
       "\n",
       ".xr-section-item input:enabled + label {\n",
       "  cursor: pointer;\n",
       "  color: var(--xr-font-color2);\n",
       "}\n",
       "\n",
       ".xr-section-item input:enabled + label:hover {\n",
       "  color: var(--xr-font-color0);\n",
       "}\n",
       "\n",
       ".xr-section-summary {\n",
       "  grid-column: 1;\n",
       "  color: var(--xr-font-color2);\n",
       "  font-weight: 500;\n",
       "}\n",
       "\n",
       ".xr-section-summary > span {\n",
       "  display: inline-block;\n",
       "  padding-left: 0.5em;\n",
       "}\n",
       "\n",
       ".xr-section-summary-in:disabled + label {\n",
       "  color: var(--xr-font-color2);\n",
       "}\n",
       "\n",
       ".xr-section-summary-in + label:before {\n",
       "  display: inline-block;\n",
       "  content: '►';\n",
       "  font-size: 11px;\n",
       "  width: 15px;\n",
       "  text-align: center;\n",
       "}\n",
       "\n",
       ".xr-section-summary-in:disabled + label:before {\n",
       "  color: var(--xr-disabled-color);\n",
       "}\n",
       "\n",
       ".xr-section-summary-in:checked + label:before {\n",
       "  content: '▼';\n",
       "}\n",
       "\n",
       ".xr-section-summary-in:checked + label > span {\n",
       "  display: none;\n",
       "}\n",
       "\n",
       ".xr-section-summary,\n",
       ".xr-section-inline-details {\n",
       "  padding-top: 4px;\n",
       "  padding-bottom: 4px;\n",
       "}\n",
       "\n",
       ".xr-section-inline-details {\n",
       "  grid-column: 2 / -1;\n",
       "}\n",
       "\n",
       ".xr-section-details {\n",
       "  display: none;\n",
       "  grid-column: 1 / -1;\n",
       "  margin-bottom: 5px;\n",
       "}\n",
       "\n",
       ".xr-section-summary-in:checked ~ .xr-section-details {\n",
       "  display: contents;\n",
       "}\n",
       "\n",
       ".xr-array-wrap {\n",
       "  grid-column: 1 / -1;\n",
       "  display: grid;\n",
       "  grid-template-columns: 20px auto;\n",
       "}\n",
       "\n",
       ".xr-array-wrap > label {\n",
       "  grid-column: 1;\n",
       "  vertical-align: top;\n",
       "}\n",
       "\n",
       ".xr-preview {\n",
       "  color: var(--xr-font-color3);\n",
       "}\n",
       "\n",
       ".xr-array-preview,\n",
       ".xr-array-data {\n",
       "  padding: 0 5px !important;\n",
       "  grid-column: 2;\n",
       "}\n",
       "\n",
       ".xr-array-data,\n",
       ".xr-array-in:checked ~ .xr-array-preview {\n",
       "  display: none;\n",
       "}\n",
       "\n",
       ".xr-array-in:checked ~ .xr-array-data,\n",
       ".xr-array-preview {\n",
       "  display: inline-block;\n",
       "}\n",
       "\n",
       ".xr-dim-list {\n",
       "  display: inline-block !important;\n",
       "  list-style: none;\n",
       "  padding: 0 !important;\n",
       "  margin: 0;\n",
       "}\n",
       "\n",
       ".xr-dim-list li {\n",
       "  display: inline-block;\n",
       "  padding: 0;\n",
       "  margin: 0;\n",
       "}\n",
       "\n",
       ".xr-dim-list:before {\n",
       "  content: '(';\n",
       "}\n",
       "\n",
       ".xr-dim-list:after {\n",
       "  content: ')';\n",
       "}\n",
       "\n",
       ".xr-dim-list li:not(:last-child):after {\n",
       "  content: ',';\n",
       "  padding-right: 5px;\n",
       "}\n",
       "\n",
       ".xr-has-index {\n",
       "  font-weight: bold;\n",
       "}\n",
       "\n",
       ".xr-var-list,\n",
       ".xr-var-item {\n",
       "  display: contents;\n",
       "}\n",
       "\n",
       ".xr-var-item > div,\n",
       ".xr-var-item label,\n",
       ".xr-var-item > .xr-var-name span {\n",
       "  background-color: var(--xr-background-color-row-even);\n",
       "  margin-bottom: 0;\n",
       "}\n",
       "\n",
       ".xr-var-item > .xr-var-name:hover span {\n",
       "  padding-right: 5px;\n",
       "}\n",
       "\n",
       ".xr-var-list > li:nth-child(odd) > div,\n",
       ".xr-var-list > li:nth-child(odd) > label,\n",
       ".xr-var-list > li:nth-child(odd) > .xr-var-name span {\n",
       "  background-color: var(--xr-background-color-row-odd);\n",
       "}\n",
       "\n",
       ".xr-var-name {\n",
       "  grid-column: 1;\n",
       "}\n",
       "\n",
       ".xr-var-dims {\n",
       "  grid-column: 2;\n",
       "}\n",
       "\n",
       ".xr-var-dtype {\n",
       "  grid-column: 3;\n",
       "  text-align: right;\n",
       "  color: var(--xr-font-color2);\n",
       "}\n",
       "\n",
       ".xr-var-preview {\n",
       "  grid-column: 4;\n",
       "}\n",
       "\n",
       ".xr-var-name,\n",
       ".xr-var-dims,\n",
       ".xr-var-dtype,\n",
       ".xr-preview,\n",
       ".xr-attrs dt {\n",
       "  white-space: nowrap;\n",
       "  overflow: hidden;\n",
       "  text-overflow: ellipsis;\n",
       "  padding-right: 10px;\n",
       "}\n",
       "\n",
       ".xr-var-name:hover,\n",
       ".xr-var-dims:hover,\n",
       ".xr-var-dtype:hover,\n",
       ".xr-attrs dt:hover {\n",
       "  overflow: visible;\n",
       "  width: auto;\n",
       "  z-index: 1;\n",
       "}\n",
       "\n",
       ".xr-var-attrs,\n",
       ".xr-var-data {\n",
       "  display: none;\n",
       "  background-color: var(--xr-background-color) !important;\n",
       "  padding-bottom: 5px !important;\n",
       "}\n",
       "\n",
       ".xr-var-attrs-in:checked ~ .xr-var-attrs,\n",
       ".xr-var-data-in:checked ~ .xr-var-data {\n",
       "  display: block;\n",
       "}\n",
       "\n",
       ".xr-var-data > table {\n",
       "  float: right;\n",
       "}\n",
       "\n",
       ".xr-var-name span,\n",
       ".xr-var-data,\n",
       ".xr-attrs {\n",
       "  padding-left: 25px !important;\n",
       "}\n",
       "\n",
       ".xr-attrs,\n",
       ".xr-var-attrs,\n",
       ".xr-var-data {\n",
       "  grid-column: 1 / -1;\n",
       "}\n",
       "\n",
       "dl.xr-attrs {\n",
       "  padding: 0;\n",
       "  margin: 0;\n",
       "  display: grid;\n",
       "  grid-template-columns: 125px auto;\n",
       "}\n",
       "\n",
       ".xr-attrs dt, dd {\n",
       "  padding: 0;\n",
       "  margin: 0;\n",
       "  float: left;\n",
       "  padding-right: 10px;\n",
       "  width: auto;\n",
       "}\n",
       "\n",
       ".xr-attrs dt {\n",
       "  font-weight: normal;\n",
       "  grid-column: 1;\n",
       "}\n",
       "\n",
       ".xr-attrs dt:hover span {\n",
       "  display: inline-block;\n",
       "  background: var(--xr-background-color);\n",
       "  padding-right: 10px;\n",
       "}\n",
       "\n",
       ".xr-attrs dd {\n",
       "  grid-column: 2;\n",
       "  white-space: pre-wrap;\n",
       "  word-break: break-all;\n",
       "}\n",
       "\n",
       ".xr-icon-database,\n",
       ".xr-icon-file-text2 {\n",
       "  display: inline-block;\n",
       "  vertical-align: middle;\n",
       "  width: 1em;\n",
       "  height: 1.5em !important;\n",
       "  stroke-width: 0;\n",
       "  stroke: currentColor;\n",
       "  fill: currentColor;\n",
       "}\n",
       "</style><div class='xr-wrap'><div class='xr-header'><div class='xr-obj-type'>xarray.Dataset</div></div><ul class='xr-sections'><li class='xr-section-item'><input id='section-47f9c3c0-026c-4212-9513-6c5ddff4e0ee' class='xr-section-summary-in' type='checkbox' disabled ><label for='section-47f9c3c0-026c-4212-9513-6c5ddff4e0ee' class='xr-section-summary'  title='Expand/collapse section'>Dimensions:</label><div class='xr-section-inline-details'><ul class='xr-dim-list'><li><span class='xr-has-index'>bnds</span>: 2</li><li><span class='xr-has-index'>lat</span>: 180</li><li><span class='xr-has-index'>lon</span>: 288</li><li><span class='xr-has-index'>time</span>: 420</li></ul></div><div class='xr-section-details'></div></li><li class='xr-section-item'><input id='section-d537a923-b84d-435f-9398-f922de6e382f' class='xr-section-summary-in' type='checkbox'  checked><label for='section-d537a923-b84d-435f-9398-f922de6e382f' class='xr-section-summary' >Coordinates: <span>(5)</span></label><div class='xr-section-inline-details'></div><div class='xr-section-details'><ul class='xr-var-list'><li class='xr-var-item'><div class='xr-var-name'><span class='xr-has-index'>bnds</span></div><div class='xr-var-dims'>(bnds)</div><div class='xr-var-dtype'>float64</div><div class='xr-var-preview xr-preview'>1.0 2.0</div><input id='attrs-d401164c-dcb0-42c9-a74d-55d7f8eb6f22' class='xr-var-attrs-in' type='checkbox' ><label for='attrs-d401164c-dcb0-42c9-a74d-55d7f8eb6f22' title='Show/Hide attributes'><svg class='icon xr-icon-file-text2'><use xlink:href='#icon-file-text2'></use></svg></label><input id='data-d78cc0b2-272a-47b7-9ec7-1e485d5a6acf' class='xr-var-data-in' type='checkbox'><label for='data-d78cc0b2-272a-47b7-9ec7-1e485d5a6acf' title='Show/Hide data repr'><svg class='icon xr-icon-database'><use xlink:href='#icon-database'></use></svg></label><div class='xr-var-attrs'><dl class='xr-attrs'><dt><span>long_name :</span></dt><dd>vertex number</dd></dl></div><pre class='xr-var-data'>array([1., 2.])</pre></li><li class='xr-var-item'><div class='xr-var-name'><span>height</span></div><div class='xr-var-dims'>()</div><div class='xr-var-dtype'>float64</div><div class='xr-var-preview xr-preview'>...</div><input id='attrs-87e74ef3-73e1-49e6-94df-a6fd61cff732' class='xr-var-attrs-in' type='checkbox' ><label for='attrs-87e74ef3-73e1-49e6-94df-a6fd61cff732' title='Show/Hide attributes'><svg class='icon xr-icon-file-text2'><use xlink:href='#icon-file-text2'></use></svg></label><input id='data-443597e9-7b35-45c0-a0b1-119ee762ba5f' class='xr-var-data-in' type='checkbox'><label for='data-443597e9-7b35-45c0-a0b1-119ee762ba5f' title='Show/Hide data repr'><svg class='icon xr-icon-database'><use xlink:href='#icon-database'></use></svg></label><div class='xr-var-attrs'><dl class='xr-attrs'><dt><span>long_name :</span></dt><dd>height</dd><dt><span>units :</span></dt><dd>m</dd><dt><span>cell_methods :</span></dt><dd>time: point</dd><dt><span>axis :</span></dt><dd>Z</dd><dt><span>positive :</span></dt><dd>up</dd><dt><span>standard_name :</span></dt><dd>height</dd><dt><span>description :</span></dt><dd>~2 m standard surface air temperature and surface humidity  height</dd></dl></div><pre class='xr-var-data'>array(2.)</pre></li><li class='xr-var-item'><div class='xr-var-name'><span class='xr-has-index'>lat</span></div><div class='xr-var-dims'>(lat)</div><div class='xr-var-dtype'>float64</div><div class='xr-var-preview xr-preview'>-89.5 -88.5 -87.5 ... 88.5 89.5</div><input id='attrs-a44b46b8-261f-4a60-9447-33550f32e0b6' class='xr-var-attrs-in' type='checkbox' ><label for='attrs-a44b46b8-261f-4a60-9447-33550f32e0b6' title='Show/Hide attributes'><svg class='icon xr-icon-file-text2'><use xlink:href='#icon-file-text2'></use></svg></label><input id='data-e005aed1-9ee7-42eb-b41f-a0d7d51fad90' class='xr-var-data-in' type='checkbox'><label for='data-e005aed1-9ee7-42eb-b41f-a0d7d51fad90' title='Show/Hide data repr'><svg class='icon xr-icon-database'><use xlink:href='#icon-database'></use></svg></label><div class='xr-var-attrs'><dl class='xr-attrs'><dt><span>long_name :</span></dt><dd>latitude</dd><dt><span>units :</span></dt><dd>degrees_north</dd><dt><span>bounds :</span></dt><dd>lat_bnds</dd><dt><span>axis :</span></dt><dd>Y</dd><dt><span>standard_name :</span></dt><dd>latitude</dd></dl></div><pre class='xr-var-data'>array([-89.5, -88.5, -87.5, -86.5, -85.5, -84.5, -83.5, -82.5, -81.5, -80.5,\n",
       "       -79.5, -78.5, -77.5, -76.5, -75.5, -74.5, -73.5, -72.5, -71.5, -70.5,\n",
       "       -69.5, -68.5, -67.5, -66.5, -65.5, -64.5, -63.5, -62.5, -61.5, -60.5,\n",
       "       -59.5, -58.5, -57.5, -56.5, -55.5, -54.5, -53.5, -52.5, -51.5, -50.5,\n",
       "       -49.5, -48.5, -47.5, -46.5, -45.5, -44.5, -43.5, -42.5, -41.5, -40.5,\n",
       "       -39.5, -38.5, -37.5, -36.5, -35.5, -34.5, -33.5, -32.5, -31.5, -30.5,\n",
       "       -29.5, -28.5, -27.5, -26.5, -25.5, -24.5, -23.5, -22.5, -21.5, -20.5,\n",
       "       -19.5, -18.5, -17.5, -16.5, -15.5, -14.5, -13.5, -12.5, -11.5, -10.5,\n",
       "        -9.5,  -8.5,  -7.5,  -6.5,  -5.5,  -4.5,  -3.5,  -2.5,  -1.5,  -0.5,\n",
       "         0.5,   1.5,   2.5,   3.5,   4.5,   5.5,   6.5,   7.5,   8.5,   9.5,\n",
       "        10.5,  11.5,  12.5,  13.5,  14.5,  15.5,  16.5,  17.5,  18.5,  19.5,\n",
       "        20.5,  21.5,  22.5,  23.5,  24.5,  25.5,  26.5,  27.5,  28.5,  29.5,\n",
       "        30.5,  31.5,  32.5,  33.5,  34.5,  35.5,  36.5,  37.5,  38.5,  39.5,\n",
       "        40.5,  41.5,  42.5,  43.5,  44.5,  45.5,  46.5,  47.5,  48.5,  49.5,\n",
       "        50.5,  51.5,  52.5,  53.5,  54.5,  55.5,  56.5,  57.5,  58.5,  59.5,\n",
       "        60.5,  61.5,  62.5,  63.5,  64.5,  65.5,  66.5,  67.5,  68.5,  69.5,\n",
       "        70.5,  71.5,  72.5,  73.5,  74.5,  75.5,  76.5,  77.5,  78.5,  79.5,\n",
       "        80.5,  81.5,  82.5,  83.5,  84.5,  85.5,  86.5,  87.5,  88.5,  89.5])</pre></li><li class='xr-var-item'><div class='xr-var-name'><span class='xr-has-index'>lon</span></div><div class='xr-var-dims'>(lon)</div><div class='xr-var-dtype'>float64</div><div class='xr-var-preview xr-preview'>0.625 1.875 3.125 ... 358.1 359.4</div><input id='attrs-f33e7f6f-eaf2-4e6c-b5b6-802b34e5d1c6' class='xr-var-attrs-in' type='checkbox' ><label for='attrs-f33e7f6f-eaf2-4e6c-b5b6-802b34e5d1c6' title='Show/Hide attributes'><svg class='icon xr-icon-file-text2'><use xlink:href='#icon-file-text2'></use></svg></label><input id='data-615a4279-600c-495a-8bf6-84b314b2c597' class='xr-var-data-in' type='checkbox'><label for='data-615a4279-600c-495a-8bf6-84b314b2c597' title='Show/Hide data repr'><svg class='icon xr-icon-database'><use xlink:href='#icon-database'></use></svg></label><div class='xr-var-attrs'><dl class='xr-attrs'><dt><span>long_name :</span></dt><dd>Longitude</dd><dt><span>units :</span></dt><dd>degrees_east</dd><dt><span>bounds :</span></dt><dd>lon_bnds</dd><dt><span>axis :</span></dt><dd>X</dd><dt><span>standard_name :</span></dt><dd>longitude</dd></dl></div><pre class='xr-var-data'>array([  0.625,   1.875,   3.125, ..., 356.875, 358.125, 359.375])</pre></li><li class='xr-var-item'><div class='xr-var-name'><span class='xr-has-index'>time</span></div><div class='xr-var-dims'>(time)</div><div class='xr-var-dtype'>object</div><div class='xr-var-preview xr-preview'>1980-01-16 12:00:00 ... 2014-12-16 12:00:00</div><input id='attrs-cea7a0ac-83ed-4b85-866d-860faba9ae72' class='xr-var-attrs-in' type='checkbox' ><label for='attrs-cea7a0ac-83ed-4b85-866d-860faba9ae72' title='Show/Hide attributes'><svg class='icon xr-icon-file-text2'><use xlink:href='#icon-file-text2'></use></svg></label><input id='data-835b8b4e-b1af-414e-8fb5-1f639658a698' class='xr-var-data-in' type='checkbox'><label for='data-835b8b4e-b1af-414e-8fb5-1f639658a698' title='Show/Hide data repr'><svg class='icon xr-icon-database'><use xlink:href='#icon-database'></use></svg></label><div class='xr-var-attrs'><dl class='xr-attrs'><dt><span>long_name :</span></dt><dd>time</dd><dt><span>axis :</span></dt><dd>T</dd><dt><span>bounds :</span></dt><dd>time_bnds</dd><dt><span>description :</span></dt><dd>for time-mean fields</dd><dt><span>standard_name :</span></dt><dd>time</dd></dl></div><pre class='xr-var-data'>array([cftime.DatetimeJulian(1980-01-16 12:00:00),\n",
       "       cftime.DatetimeJulian(1980-02-15 12:00:00),\n",
       "       cftime.DatetimeJulian(1980-03-16 12:00:00), ...,\n",
       "       cftime.DatetimeJulian(2014-10-16 12:00:00),\n",
       "       cftime.DatetimeJulian(2014-11-16 00:00:00),\n",
       "       cftime.DatetimeJulian(2014-12-16 12:00:00)], dtype=object)</pre></li></ul></div></li><li class='xr-section-item'><input id='section-37a44d34-3f85-401d-9d58-8050d4bf335c' class='xr-section-summary-in' type='checkbox'  checked><label for='section-37a44d34-3f85-401d-9d58-8050d4bf335c' class='xr-section-summary' >Data variables: <span>(4)</span></label><div class='xr-section-inline-details'></div><div class='xr-section-details'><ul class='xr-var-list'><li class='xr-var-item'><div class='xr-var-name'><span>lat_bnds</span></div><div class='xr-var-dims'>(lat, bnds)</div><div class='xr-var-dtype'>float64</div><div class='xr-var-preview xr-preview'>...</div><input id='attrs-1f135eeb-44cb-42b6-b265-be04daceec40' class='xr-var-attrs-in' type='checkbox' disabled><label for='attrs-1f135eeb-44cb-42b6-b265-be04daceec40' title='Show/Hide attributes'><svg class='icon xr-icon-file-text2'><use xlink:href='#icon-file-text2'></use></svg></label><input id='data-f4697589-df65-4960-a91b-12572009980b' class='xr-var-data-in' type='checkbox'><label for='data-f4697589-df65-4960-a91b-12572009980b' title='Show/Hide data repr'><svg class='icon xr-icon-database'><use xlink:href='#icon-database'></use></svg></label><div class='xr-var-attrs'><dl class='xr-attrs'></dl></div><pre class='xr-var-data'>array([[-90., -89.],\n",
       "       [-89., -88.],\n",
       "       [-88., -87.],\n",
       "       ...,\n",
       "       [ 87.,  88.],\n",
       "       [ 88.,  89.],\n",
       "       [ 89.,  90.]])</pre></li><li class='xr-var-item'><div class='xr-var-name'><span>lon_bnds</span></div><div class='xr-var-dims'>(lon, bnds)</div><div class='xr-var-dtype'>float64</div><div class='xr-var-preview xr-preview'>...</div><input id='attrs-5480b94b-96aa-4838-a20c-a3fbd0a5760e' class='xr-var-attrs-in' type='checkbox' disabled><label for='attrs-5480b94b-96aa-4838-a20c-a3fbd0a5760e' title='Show/Hide attributes'><svg class='icon xr-icon-file-text2'><use xlink:href='#icon-file-text2'></use></svg></label><input id='data-08fb8d47-076d-4293-90a6-f41bdfffe15f' class='xr-var-data-in' type='checkbox'><label for='data-08fb8d47-076d-4293-90a6-f41bdfffe15f' title='Show/Hide data repr'><svg class='icon xr-icon-database'><use xlink:href='#icon-database'></use></svg></label><div class='xr-var-attrs'><dl class='xr-attrs'></dl></div><pre class='xr-var-data'>array([[  0.  ,   1.25],\n",
       "       [  1.25,   2.5 ],\n",
       "       [  2.5 ,   3.75],\n",
       "       ...,\n",
       "       [356.25, 357.5 ],\n",
       "       [357.5 , 358.75],\n",
       "       [358.75, 360.  ]])</pre></li><li class='xr-var-item'><div class='xr-var-name'><span>tas</span></div><div class='xr-var-dims'>(time, lat, lon)</div><div class='xr-var-dtype'>float32</div><div class='xr-var-preview xr-preview'>...</div><input id='attrs-4d60aff5-f467-428d-bc66-5016603c2b91' class='xr-var-attrs-in' type='checkbox' ><label for='attrs-4d60aff5-f467-428d-bc66-5016603c2b91' title='Show/Hide attributes'><svg class='icon xr-icon-file-text2'><use xlink:href='#icon-file-text2'></use></svg></label><input id='data-5257232d-c4ed-474e-b72a-a5fefb218612' class='xr-var-data-in' type='checkbox'><label for='data-5257232d-c4ed-474e-b72a-a5fefb218612' title='Show/Hide data repr'><svg class='icon xr-icon-database'><use xlink:href='#icon-database'></use></svg></label><div class='xr-var-attrs'><dl class='xr-attrs'><dt><span>long_name :</span></dt><dd>Near-Surface Air Temperature</dd><dt><span>units :</span></dt><dd>K</dd><dt><span>cell_methods :</span></dt><dd>area: time: mean</dd><dt><span>cell_measures :</span></dt><dd>area: areacella</dd><dt><span>standard_name :</span></dt><dd>air_temperature</dd><dt><span>interp_method :</span></dt><dd>conserve_order2</dd><dt><span>original_name :</span></dt><dd>tas</dd></dl></div><pre class='xr-var-data'>[21772800 values with dtype=float32]</pre></li><li class='xr-var-item'><div class='xr-var-name'><span>time_bnds</span></div><div class='xr-var-dims'>(time, bnds)</div><div class='xr-var-dtype'>object</div><div class='xr-var-preview xr-preview'>...</div><input id='attrs-25a4ce58-b0e1-467b-bb04-738d145dcec2' class='xr-var-attrs-in' type='checkbox' ><label for='attrs-25a4ce58-b0e1-467b-bb04-738d145dcec2' title='Show/Hide attributes'><svg class='icon xr-icon-file-text2'><use xlink:href='#icon-file-text2'></use></svg></label><input id='data-c172838d-c43e-4bd3-ad20-bed73e0a7446' class='xr-var-data-in' type='checkbox'><label for='data-c172838d-c43e-4bd3-ad20-bed73e0a7446' title='Show/Hide data repr'><svg class='icon xr-icon-database'><use xlink:href='#icon-database'></use></svg></label><div class='xr-var-attrs'><dl class='xr-attrs'><dt><span>long_name :</span></dt><dd>time axis boundaries</dd></dl></div><pre class='xr-var-data'>array([[cftime.DatetimeJulian(1980-01-01 00:00:00),\n",
       "        cftime.DatetimeJulian(1980-02-01 00:00:00)],\n",
       "       [cftime.DatetimeJulian(1980-02-01 00:00:00),\n",
       "        cftime.DatetimeJulian(1980-03-01 00:00:00)],\n",
       "       [cftime.DatetimeJulian(1980-03-01 00:00:00),\n",
       "        cftime.DatetimeJulian(1980-04-01 00:00:00)],\n",
       "       ...,\n",
       "       [cftime.DatetimeJulian(2014-10-01 00:00:00),\n",
       "        cftime.DatetimeJulian(2014-11-01 00:00:00)],\n",
       "       [cftime.DatetimeJulian(2014-11-01 00:00:00),\n",
       "        cftime.DatetimeJulian(2014-12-01 00:00:00)],\n",
       "       [cftime.DatetimeJulian(2014-12-01 00:00:00),\n",
       "        cftime.DatetimeJulian(2015-01-01 00:00:00)]], dtype=object)</pre></li></ul></div></li><li class='xr-section-item'><input id='section-88172dbe-5045-4f6e-a45b-938bbf2cc535' class='xr-section-summary-in' type='checkbox'  ><label for='section-88172dbe-5045-4f6e-a45b-938bbf2cc535' class='xr-section-summary' >Attributes: <span>(44)</span></label><div class='xr-section-inline-details'></div><div class='xr-section-details'><dl class='xr-attrs'><dt><span>title :</span></dt><dd>NOAA GFDL GFDL-AM4 model output prepared for CMIP6 AMIP</dd><dt><span>history :</span></dt><dd>File was processed by fremetar (GFDL analog of CMOR). TripleID: [exper_id_Pw6DDkBKpw,realiz_id_sd6xUIzFNL,run_id_xt6y8xrBWd]</dd><dt><span>table_id :</span></dt><dd>Amon</dd><dt><span>contact :</span></dt><dd>gfdl.climate.model.info@noaa.gov</dd><dt><span>comment :</span></dt><dd>&lt;null ref&gt;</dd><dt><span>tracking_id :</span></dt><dd>hdl:21.14100/3b95ceac-9bd6-42c9-a130-130fc1ba108c</dd><dt><span>further_info_url :</span></dt><dd>https://furtherinfo.es-doc.org/CMIP6.NOAA-GFDL.GFDL-AM4.amip.none.r1i1p1f1</dd><dt><span>branch_time_in_child :</span></dt><dd>0.0</dd><dt><span>branch_method :</span></dt><dd>no parent</dd><dt><span>creation_date :</span></dt><dd>2018-08-07T17:02:18Z</dd><dt><span>Conventions :</span></dt><dd>CF-1.7 CMIP-6.0 UGRID-1.0</dd><dt><span>sub_experiment :</span></dt><dd>none</dd><dt><span>frequency :</span></dt><dd>monC</dd><dt><span>forcing_index :</span></dt><dd>1</dd><dt><span>physics_index :</span></dt><dd>1</dd><dt><span>initialization_index :</span></dt><dd>1</dd><dt><span>realization_index :</span></dt><dd>1</dd><dt><span>parent_variant_label :</span></dt><dd>no parent</dd><dt><span>parent_experiment_id :</span></dt><dd>no parent</dd><dt><span>data_specs_version :</span></dt><dd>01.00.27</dd><dt><span>experiment_id :</span></dt><dd>amip</dd><dt><span>experiment :</span></dt><dd>AMIP</dd><dt><span>activity_id :</span></dt><dd>CMIP</dd><dt><span>source_id :</span></dt><dd>GFDL-AM4</dd><dt><span>source_type :</span></dt><dd>AGCM</dd><dt><span>institution_id :</span></dt><dd>NOAA-GFDL</dd><dt><span>institution :</span></dt><dd>National Oceanic and Atmospheric Administration, Geophysical Fluid Dynamics Laboratory, Princeton, NJ 08540, USA</dd><dt><span>variable_id :</span></dt><dd>tas</dd><dt><span>variant_info :</span></dt><dd>N/A</dd><dt><span>mip_era :</span></dt><dd>CMIP6</dd><dt><span>source :</span></dt><dd>&quot;GFDL-AM4 (2017): aerosol: interactive;atmos: GFDL-AM4.0 (Cubed-sphere (c96) - 1 degree nominal horizontal resolution; 360 x 180 longitude/latitude; 33 levels; top level 1 hPa);atmosChem: fast chemistry, aerosol only;land: GFDL-LM4.0;landIce: GFDL-LM4.0;ocean: none;ocnBgchem: none;seaIce: none&quot;\n",
       "(GFDL ID: 2017_1035)</dd><dt><span>parent_activity_id :</span></dt><dd>no parent</dd><dt><span>parent_mip_era :</span></dt><dd>no parent</dd><dt><span>parent_source_id :</span></dt><dd>no parent</dd><dt><span>parent_time_units :</span></dt><dd>no parent</dd><dt><span>sub_experiment_id :</span></dt><dd>none</dd><dt><span>grid :</span></dt><dd>atmos data regridded from Cubed-sphere (c96) to 180,288; interpolation method: conserve_order2</dd><dt><span>variant_label :</span></dt><dd>r1i1p1f1</dd><dt><span>grid_label :</span></dt><dd>gr1</dd><dt><span>license :</span></dt><dd>CMIP6 model data produced by NOAA-GFDL is licensed under a Creative Commons Attribution-ShareAlike 4.0 International License (https://creativecommons.org/licenses/). Consult https://pcmdi.llnl.gov/CMIP6/TermsOfUse for terms of use governing CMIP6 output, including citation requirements and proper acknowledgment. Further information about this data, including some limitations, can be found via the further_info_url (recorded as a global attribute in this file). The data producers and data providers make no warranty, either express or implied, including, but not limited to, warranties of merchantability and fitness for a particular purpose. All liabilities arising from the supply of the information (including any liability arising in negligence) are excluded to the fullest extent permitted by law.</dd><dt><span>nominal_resolution :</span></dt><dd>100 km</dd><dt><span>product :</span></dt><dd>model-output</dd><dt><span>realm :</span></dt><dd>atmos</dd><dt><span>references :</span></dt><dd>see further_info_url attribute</dd></dl></div></li></ul></div></div>"
      ],
      "text/plain": [
       "<xarray.Dataset>\n",
       "Dimensions:    (bnds: 2, lat: 180, lon: 288, time: 420)\n",
       "Coordinates:\n",
       "  * bnds       (bnds) float64 1.0 2.0\n",
       "    height     float64 ...\n",
       "  * lat        (lat) float64 -89.5 -88.5 -87.5 -86.5 ... 86.5 87.5 88.5 89.5\n",
       "  * lon        (lon) float64 0.625 1.875 3.125 4.375 ... 355.6 356.9 358.1 359.4\n",
       "  * time       (time) object 1980-01-16 12:00:00 ... 2014-12-16 12:00:00\n",
       "Data variables:\n",
       "    lat_bnds   (lat, bnds) float64 ...\n",
       "    lon_bnds   (lon, bnds) float64 ...\n",
       "    tas        (time, lat, lon) float32 ...\n",
       "    time_bnds  (time, bnds) object ...\n",
       "Attributes:\n",
       "    title:                 NOAA GFDL GFDL-AM4 model output prepared for CMIP6...\n",
       "    history:               File was processed by fremetar (GFDL analog of CMO...\n",
       "    table_id:              Amon\n",
       "    contact:               gfdl.climate.model.info@noaa.gov\n",
       "    comment:               <null ref>\n",
       "    tracking_id:           hdl:21.14100/3b95ceac-9bd6-42c9-a130-130fc1ba108c\n",
       "    further_info_url:      https://furtherinfo.es-doc.org/CMIP6.NOAA-GFDL.GFD...\n",
       "    branch_time_in_child:  0.0\n",
       "    branch_method:         no parent\n",
       "    creation_date:         2018-08-07T17:02:18Z\n",
       "    Conventions:           CF-1.7 CMIP-6.0 UGRID-1.0\n",
       "    sub_experiment:        none\n",
       "    frequency:             monC\n",
       "    forcing_index:         1\n",
       "    physics_index:         1\n",
       "    initialization_index:  1\n",
       "    realization_index:     1\n",
       "    parent_variant_label:  no parent\n",
       "    parent_experiment_id:  no parent\n",
       "    data_specs_version:    01.00.27\n",
       "    experiment_id:         amip\n",
       "    experiment:            AMIP\n",
       "    activity_id:           CMIP\n",
       "    source_id:             GFDL-AM4\n",
       "    source_type:           AGCM\n",
       "    institution_id:        NOAA-GFDL\n",
       "    institution:           National Oceanic and Atmospheric Administration, G...\n",
       "    variable_id:           tas\n",
       "    variant_info:          N/A\n",
       "    mip_era:               CMIP6\n",
       "    source:                \"GFDL-AM4 (2017): aerosol: interactive;atmos: GFDL...\n",
       "    parent_activity_id:    no parent\n",
       "    parent_mip_era:        no parent\n",
       "    parent_source_id:      no parent\n",
       "    parent_time_units:     no parent\n",
       "    sub_experiment_id:     none\n",
       "    grid:                  atmos data regridded from Cubed-sphere (c96) to 18...\n",
       "    variant_label:         r1i1p1f1\n",
       "    grid_label:            gr1\n",
       "    license:               CMIP6 model data produced by NOAA-GFDL is licensed...\n",
       "    nominal_resolution:    100 km\n",
       "    product:               model-output\n",
       "    realm:                 atmos\n",
       "    references:            see further_info_url attribute"
      ]
     },
     "execution_count": 16,
     "metadata": {},
     "output_type": "execute_result"
    }
   ],
   "source": [
    "ds = xr.open_dataset(filename, use_cftime=True)\n",
    "\n",
    "ds"
   ]
  },
  {
   "cell_type": "markdown",
   "metadata": {},
   "source": [
    "In order to be self-describing, the dataset has 'attributes'."
   ]
  },
  {
   "cell_type": "code",
   "execution_count": 7,
   "metadata": {},
   "outputs": [
    {
     "data": {
      "text/plain": [
       "{'title': 'NOAA GFDL GFDL-AM4 model output prepared for CMIP6 AMIP',\n",
       " 'history': 'File was processed by fremetar (GFDL analog of CMOR). TripleID: [exper_id_Pw6DDkBKpw,realiz_id_sd6xUIzFNL,run_id_xt6y8xrBWd]',\n",
       " 'table_id': 'Amon',\n",
       " 'contact': 'gfdl.climate.model.info@noaa.gov',\n",
       " 'comment': '<null ref>',\n",
       " 'tracking_id': 'hdl:21.14100/3b95ceac-9bd6-42c9-a130-130fc1ba108c',\n",
       " 'further_info_url': 'https://furtherinfo.es-doc.org/CMIP6.NOAA-GFDL.GFDL-AM4.amip.none.r1i1p1f1',\n",
       " 'branch_time_in_child': 0.0,\n",
       " 'branch_method': 'no parent',\n",
       " 'creation_date': '2018-08-07T17:02:18Z',\n",
       " 'Conventions': 'CF-1.7 CMIP-6.0 UGRID-1.0',\n",
       " 'sub_experiment': 'none',\n",
       " 'frequency': 'monC',\n",
       " 'forcing_index': 1,\n",
       " 'physics_index': 1,\n",
       " 'initialization_index': 1,\n",
       " 'realization_index': 1,\n",
       " 'parent_variant_label': 'no parent',\n",
       " 'parent_experiment_id': 'no parent',\n",
       " 'data_specs_version': '01.00.27',\n",
       " 'experiment_id': 'amip',\n",
       " 'experiment': 'AMIP',\n",
       " 'activity_id': 'CMIP',\n",
       " 'source_id': 'GFDL-AM4',\n",
       " 'source_type': 'AGCM',\n",
       " 'institution_id': 'NOAA-GFDL',\n",
       " 'institution': 'National Oceanic and Atmospheric Administration, Geophysical Fluid Dynamics Laboratory, Princeton, NJ 08540, USA',\n",
       " 'variable_id': 'tas',\n",
       " 'variant_info': 'N/A',\n",
       " 'mip_era': 'CMIP6',\n",
       " 'source': '\"GFDL-AM4 (2017): aerosol: interactive;atmos: GFDL-AM4.0 (Cubed-sphere (c96) - 1 degree nominal horizontal resolution; 360 x 180 longitude/latitude; 33 levels; top level 1 hPa);atmosChem: fast chemistry, aerosol only;land: GFDL-LM4.0;landIce: GFDL-LM4.0;ocean: none;ocnBgchem: none;seaIce: none\"\\n(GFDL ID: 2017_1035)',\n",
       " 'parent_activity_id': 'no parent',\n",
       " 'parent_mip_era': 'no parent',\n",
       " 'parent_source_id': 'no parent',\n",
       " 'parent_time_units': 'no parent',\n",
       " 'sub_experiment_id': 'none',\n",
       " 'grid': 'atmos data regridded from Cubed-sphere (c96) to 180,288; interpolation method: conserve_order2',\n",
       " 'variant_label': 'r1i1p1f1',\n",
       " 'grid_label': 'gr1',\n",
       " 'license': 'CMIP6 model data produced by NOAA-GFDL is licensed under a Creative Commons Attribution-ShareAlike 4.0 International License (https://creativecommons.org/licenses/). Consult https://pcmdi.llnl.gov/CMIP6/TermsOfUse for terms of use governing CMIP6 output, including citation requirements and proper acknowledgment. Further information about this data, including some limitations, can be found via the further_info_url (recorded as a global attribute in this file). The data producers and data providers make no warranty, either express or implied, including, but not limited to, warranties of merchantability and fitness for a particular purpose. All liabilities arising from the supply of the information (including any liability arising in negligence) are excluded to the fullest extent permitted by law.',\n",
       " 'nominal_resolution': '100 km',\n",
       " 'product': 'model-output',\n",
       " 'realm': 'atmos',\n",
       " 'references': 'see further_info_url attribute'}"
      ]
     },
     "execution_count": 7,
     "metadata": {},
     "output_type": "execute_result"
    }
   ],
   "source": [
    "ds.attrs"
   ]
  },
  {
   "cell_type": "markdown",
   "metadata": {},
   "source": [
    "The individual variables also have their own attributes, making them self-describing:"
   ]
  },
  {
   "cell_type": "code",
   "execution_count": 8,
   "metadata": {},
   "outputs": [
    {
     "data": {
      "text/plain": [
       "{'long_name': 'Longitude',\n",
       " 'units': 'degrees_east',\n",
       " 'bounds': 'lon_bnds',\n",
       " 'axis': 'X',\n",
       " 'standard_name': 'longitude'}"
      ]
     },
     "execution_count": 8,
     "metadata": {},
     "output_type": "execute_result"
    }
   ],
   "source": [
    "ds.lon.attrs"
   ]
  },
  {
   "cell_type": "code",
   "execution_count": 9,
   "metadata": {},
   "outputs": [
    {
     "data": {
      "text/plain": [
       "{'long_name': 'Near-Surface Air Temperature',\n",
       " 'units': 'K',\n",
       " 'cell_methods': 'area: time: mean',\n",
       " 'cell_measures': 'area: areacella',\n",
       " 'standard_name': 'air_temperature',\n",
       " 'interp_method': 'conserve_order2',\n",
       " 'original_name': 'tas'}"
      ]
     },
     "execution_count": 9,
     "metadata": {},
     "output_type": "execute_result"
    }
   ],
   "source": [
    "ds.tas.attrs"
   ]
  },
  {
   "cell_type": "markdown",
   "metadata": {},
   "source": [
    "## Losing attributes\n",
    "By default, some xarray operations can cause attributes to be discarded from variables. This includes most statistical operations, and interpolation. This is a sensible default behaviour, as it prevents files from falsely claiming CF compliance."
   ]
  },
  {
   "cell_type": "code",
   "execution_count": 29,
   "metadata": {},
   "outputs": [],
   "source": [
    "new_lat = np.linspace(ds.lat.min(), ds.lat.max(), 100)\n",
    "ds_new = ds.interp(lat=new_lat)"
   ]
  },
  {
   "cell_type": "markdown",
   "metadata": {},
   "source": [
    "`ds_new` has it's attributes still:"
   ]
  },
  {
   "cell_type": "code",
   "execution_count": 30,
   "metadata": {},
   "outputs": [
    {
     "data": {
      "text/plain": [
       "True"
      ]
     },
     "execution_count": 30,
     "metadata": {},
     "output_type": "execute_result"
    }
   ],
   "source": [
    "ds_new.attrs == ds_new.attrs"
   ]
  },
  {
   "cell_type": "markdown",
   "metadata": {},
   "source": [
    "But the axis on which we interpolated has lost its attributes:"
   ]
  },
  {
   "cell_type": "code",
   "execution_count": 31,
   "metadata": {},
   "outputs": [
    {
     "data": {
      "text/plain": [
       "{}"
      ]
     },
     "execution_count": 31,
     "metadata": {},
     "output_type": "execute_result"
    }
   ],
   "source": [
    "ds_new.lat.attrs"
   ]
  },
  {
   "cell_type": "markdown",
   "metadata": {},
   "source": [
    "The other variables still have their attributes:"
   ]
  },
  {
   "cell_type": "code",
   "execution_count": 32,
   "metadata": {},
   "outputs": [
    {
     "data": {
      "text/plain": [
       "(True, True)"
      ]
     },
     "execution_count": 32,
     "metadata": {},
     "output_type": "execute_result"
    }
   ],
   "source": [
    "ds_new.lon.attrs == ds.lon.attrs, ds_new.tas.attrs == ds.tas.attrs"
   ]
  },
  {
   "cell_type": "markdown",
   "metadata": {},
   "source": [
    "Reducing functions cause a dataset to lose all of its attributes."
   ]
  },
  {
   "cell_type": "code",
   "execution_count": 33,
   "metadata": {},
   "outputs": [
    {
     "data": {
      "text/plain": [
       "{}"
      ]
     },
     "execution_count": 33,
     "metadata": {},
     "output_type": "execute_result"
    }
   ],
   "source": [
    "ds_new = ds.mean()\n",
    "ds_new.attrs"
   ]
  },
  {
   "cell_type": "markdown",
   "metadata": {},
   "source": [
    "## Keeping attributes\n",
    "There is an option that will lead attributes to be kept in more cases.\n",
    "\n",
    "They will be kept when reducing functions are used:"
   ]
  },
  {
   "cell_type": "code",
   "execution_count": 38,
   "metadata": {},
   "outputs": [
    {
     "name": "stdout",
     "output_type": "stream",
     "text": [
      "True\n"
     ]
    }
   ],
   "source": [
    "with xr.set_options(keep_attrs=True):\n",
    "    print(ds.mean().attrs == ds.attrs)"
   ]
  },
  {
   "cell_type": "markdown",
   "metadata": {},
   "source": [
    "But still not when the interp function is used:"
   ]
  },
  {
   "cell_type": "code",
   "execution_count": 37,
   "metadata": {},
   "outputs": [
    {
     "name": "stdout",
     "output_type": "stream",
     "text": [
      "False\n"
     ]
    }
   ],
   "source": [
    "with xr.set_options(keep_attrs=True):\n",
    "    print(ds.interp(lat=new_lat).lat.attrs == ds.lat.attrs)"
   ]
  }
 ],
 "metadata": {
  "kernelspec": {
   "display_name": "Python 3",
   "language": "python",
   "name": "python3"
  },
  "language_info": {
   "codemirror_mode": {
    "name": "ipython",
    "version": 3
   },
   "file_extension": ".py",
   "mimetype": "text/x-python",
   "name": "python",
   "nbconvert_exporter": "python",
   "pygments_lexer": "ipython3",
   "version": "3.7.6"
  }
 },
 "nbformat": 4,
 "nbformat_minor": 4
}
